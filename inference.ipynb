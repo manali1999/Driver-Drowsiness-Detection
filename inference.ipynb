{
 "cells": [
  {
   "cell_type": "code",
   "execution_count": 3,
   "metadata": {},
   "outputs": [
    {
     "ename": "ModuleNotFoundError",
     "evalue": "No module named 'tensorflow'",
     "output_type": "error",
     "traceback": [
      "\u001b[1;31m---------------------------------------------------------------------------\u001b[0m",
      "\u001b[1;31mModuleNotFoundError\u001b[0m                       Traceback (most recent call last)",
      "\u001b[1;32m~\\AppData\\Local\\Temp/ipykernel_10880/4024556568.py\u001b[0m in \u001b[0;36m<module>\u001b[1;34m\u001b[0m\n\u001b[0;32m      1\u001b[0m \u001b[1;32mimport\u001b[0m \u001b[0mcv2\u001b[0m\u001b[1;33m\u001b[0m\u001b[1;33m\u001b[0m\u001b[0m\n\u001b[0;32m      2\u001b[0m \u001b[1;32mimport\u001b[0m \u001b[0mnumpy\u001b[0m \u001b[1;32mas\u001b[0m \u001b[0mnp\u001b[0m\u001b[1;33m\u001b[0m\u001b[1;33m\u001b[0m\u001b[0m\n\u001b[1;32m----> 3\u001b[1;33m \u001b[1;32mfrom\u001b[0m \u001b[0mtensorflow\u001b[0m\u001b[1;33m.\u001b[0m\u001b[0mkeras\u001b[0m\u001b[1;33m.\u001b[0m\u001b[0mmodels\u001b[0m \u001b[1;32mimport\u001b[0m \u001b[0mload_model\u001b[0m\u001b[1;33m\u001b[0m\u001b[1;33m\u001b[0m\u001b[0m\n\u001b[0m",
      "\u001b[1;31mModuleNotFoundError\u001b[0m: No module named 'tensorflow'"
     ]
    }
   ],
   "source": [
    "import cv2\n",
    "import numpy as np\n",
    "from tensorflow.keras.models import load_model"
   ]
  },
  {
   "cell_type": "code",
   "execution_count": null,
   "metadata": {},
   "outputs": [],
   "source": [
    "# Load the trained model\n",
    "path_to_model ='/home/Documents/Dissertation/driver-drive/Models/Predefine_Architecture_VGG16_Model.h5'\n",
    "model = load_model(path_to_model)"
   ]
  },
  {
   "cell_type": "code",
   "execution_count": null,
   "metadata": {},
   "outputs": [],
   "source": [
    "def preprocess(frame):\n",
    "    # Resize the frame to 180x180 pixels\n",
    "    resized_frame = cv2.resize(frame, (180, 180))\n",
    "    # Convert the frame to grayscale\n",
    "    gray_frame = cv2.cvtColor(resized_frame, cv2.COLOR_BGR2GRAY)\n",
    "    # Add a third color channel to the frame\n",
    "    processed_frame = cv2.merge([gray_frame, gray_frame, gray_frame])\n",
    "    # Expand the dimensions of the frame to match the input shape of the model\n",
    "    processed_frame = np.expand_dims(processed_frame, axis=0)\n",
    "    return processed_frame\n",
    "\n",
    "# Create a VideoCapture object to capture frames from the camera\n",
    "cam= cv2.VideoCapture(0)\n",
    "\n",
    "while True:\n",
    "    # Capture a frame from the camera\n",
    "    ret, frame = cam.read()\n",
    "\n",
    "    # Check if a frame was successfully captured\n",
    "    if not ret:\n",
    "        print(\"Failed to grab frame\")\n",
    "        break\n",
    "    # Our operations on the frame come here\n",
    "    # gray = cv2.cvtColor(frame, cv2.COLOR_BGR2GRAY)\n",
    "    # # Display the captured frame\n",
    "    cv2.imshow('Test', frame)\n",
    "    \n",
    "    k= cv2.waitKey(1)\n",
    "    # Wait for a key press to exit\n",
    "    if k%256 == 27:\n",
    "        print('escape hit, closing the app')\n",
    "        break\n",
    "\n",
    "    # Preprocess the frame\n",
    "    processed_frame = preprocess(frame)\n",
    "\n",
    "    # Pass the preprocessed frame through the model to get the drowsiness detection result\n",
    "    result = model.predict(processed_frame)\n",
    "\n",
    "    # Analyze the output of the model and take appropriate actions\n",
    "    if result > 0.5:\n",
    "        # Driver is drowsy\n",
    "        # Display an alert message on the screen\n",
    "        cv2.putText(frame, \"Drowsy Driver Detected!\", (10, 50), cv2.FONT_HERSHEY_SIMPLEX, 1, (0, 0, 255), 2)\n",
    "        # Play an alarm sound to alert the driver\n",
    "        playsound.playsound('alarm.wav')\n",
    "        \n",
    "    # Display the output frame with the detection result\n",
    "    cv2.imshow('Output Frame', frame)\n",
    "\n",
    "    # Exit the program if 'q' is pressed\n",
    "    if cv2.waitKey(1) & 0xFF == ord('q'):\n",
    "        break\n",
    "\n",
    "\n",
    "# Release the capture and destroy all windows\n",
    "cam.release()\n",
    "# cv2.destroyAllWindows()"
   ]
  }
 ],
 "metadata": {
  "kernelspec": {
   "display_name": "Python 3 (ipykernel)",
   "language": "python",
   "name": "python3"
  },
  "language_info": {
   "codemirror_mode": {
    "name": "ipython",
    "version": 3
   },
   "file_extension": ".py",
   "mimetype": "text/x-python",
   "name": "python",
   "nbconvert_exporter": "python",
   "pygments_lexer": "ipython3",
   "version": "3.9.7"
  }
 },
 "nbformat": 4,
 "nbformat_minor": 2
}
