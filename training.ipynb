{
 "cells": [
  {
   "cell_type": "code",
   "execution_count": 2,
   "id": "59d6527c",
   "metadata": {},
   "outputs": [],
   "source": [
    "import tensorflow\n",
    "import tensorflow as tf\n",
    "from tensorflow import keras\n",
    "from keras.layers import Input,Lambda,Dense,Flatten\n",
    "from keras.models import Model\n",
    "from keras.applications.vgg16 import VGG16,preprocess_input\n",
    "from keras.preprocessing import image\n",
    "from keras.preprocessing.image import ImageDataGenerator\n",
    "from keras.models import Sequential\n",
    "from tensorflow.keras.optimizers.legacy import Adam\n",
    "import numpy\n",
    "from glob import glob\n",
    "import matplotlib.pyplot as pyplot\n",
    "from keras.models import load_model\n",
    "from sklearn.metrics import confusion_matrix,classification_report\n",
    "import seaborn\n",
    "import os\n",
    "%matplotlib inline\n",
    "# changed from qt to inline"
   ]
  },
  {
   "cell_type": "code",
   "execution_count": 3,
   "id": "83260645",
   "metadata": {},
   "outputs": [
    {
     "name": "stdout",
     "output_type": "stream",
     "text": [
      "0 -->  closed\n",
      "1 -->  no_yawn\n",
      "2 -->  open\n",
      "3 -->  yawn\n"
     ]
    }
   ],
   "source": [
    "classes_list=['closed', 'no_yawn', 'open', 'yawn']\n",
    "def printClassList():\n",
    "    for class_name in classes_list:\n",
    "        print(f\"{classes_list.index(class_name)} -->  {class_name}\")\n",
    "printClassList()   \n",
    "def getClassvalue(index):\n",
    "    print(classes_list[index])"
   ]
  },
  {
   "cell_type": "code",
   "execution_count": 4,
   "id": "425286c8",
   "metadata": {},
   "outputs": [],
   "source": [
    "IMAGE_SIZE=[180,180]\n",
    "training_path=r'C:/Users/kmman/Documents/Dissertation/driver-detection/driver-detection/train'\n",
    "testing_path=r'C:/Users/kmman/Documents/Dissertation/driver-detection/driver-detection/test'\n"
   ]
  },
  {
   "cell_type": "code",
   "execution_count": 5,
   "id": "afbf92bc",
   "metadata": {},
   "outputs": [],
   "source": [
    "VGG16_Architecture=VGG16(input_shape=IMAGE_SIZE+[3],weights='imagenet',include_top=False)"
   ]
  },
  {
   "cell_type": "code",
   "execution_count": 6,
   "id": "5fd46554",
   "metadata": {},
   "outputs": [
    {
     "name": "stdout",
     "output_type": "stream",
     "text": [
      "Model: \"vgg16\"\n",
      "_________________________________________________________________\n",
      " Layer (type)                Output Shape              Param #   \n",
      "=================================================================\n",
      " input_1 (InputLayer)        [(None, 180, 180, 3)]     0         \n",
      "                                                                 \n",
      " block1_conv1 (Conv2D)       (None, 180, 180, 64)      1792      \n",
      "                                                                 \n",
      " block1_conv2 (Conv2D)       (None, 180, 180, 64)      36928     \n",
      "                                                                 \n",
      " block1_pool (MaxPooling2D)  (None, 90, 90, 64)        0         \n",
      "                                                                 \n",
      " block2_conv1 (Conv2D)       (None, 90, 90, 128)       73856     \n",
      "                                                                 \n",
      " block2_conv2 (Conv2D)       (None, 90, 90, 128)       147584    \n",
      "                                                                 \n",
      " block2_pool (MaxPooling2D)  (None, 45, 45, 128)       0         \n",
      "                                                                 \n",
      " block3_conv1 (Conv2D)       (None, 45, 45, 256)       295168    \n",
      "                                                                 \n",
      " block3_conv2 (Conv2D)       (None, 45, 45, 256)       590080    \n",
      "                                                                 \n",
      " block3_conv3 (Conv2D)       (None, 45, 45, 256)       590080    \n",
      "                                                                 \n",
      " block3_pool (MaxPooling2D)  (None, 22, 22, 256)       0         \n",
      "                                                                 \n",
      " block4_conv1 (Conv2D)       (None, 22, 22, 512)       1180160   \n",
      "                                                                 \n",
      " block4_conv2 (Conv2D)       (None, 22, 22, 512)       2359808   \n",
      "                                                                 \n",
      " block4_conv3 (Conv2D)       (None, 22, 22, 512)       2359808   \n",
      "                                                                 \n",
      " block4_pool (MaxPooling2D)  (None, 11, 11, 512)       0         \n",
      "                                                                 \n",
      " block5_conv1 (Conv2D)       (None, 11, 11, 512)       2359808   \n",
      "                                                                 \n",
      " block5_conv2 (Conv2D)       (None, 11, 11, 512)       2359808   \n",
      "                                                                 \n",
      " block5_conv3 (Conv2D)       (None, 11, 11, 512)       2359808   \n",
      "                                                                 \n",
      " block5_pool (MaxPooling2D)  (None, 5, 5, 512)         0         \n",
      "                                                                 \n",
      "=================================================================\n",
      "Total params: 14,714,688\n",
      "Trainable params: 14,714,688\n",
      "Non-trainable params: 0\n",
      "_________________________________________________________________\n"
     ]
    }
   ],
   "source": [
    "VGG16_Architecture.summary()"
   ]
  },
  {
   "cell_type": "code",
   "execution_count": 7,
   "id": "6d086ec7",
   "metadata": {},
   "outputs": [
    {
     "name": "stdout",
     "output_type": "stream",
     "text": [
      "<keras.engine.input_layer.InputLayer object at 0x000001A30349B6D0>\n",
      "<keras.layers.convolutional.conv2d.Conv2D object at 0x000001A31B1BEF20>\n",
      "<keras.layers.convolutional.conv2d.Conv2D object at 0x000001A31B1BF880>\n",
      "<keras.layers.pooling.max_pooling2d.MaxPooling2D object at 0x000001A31B32C730>\n",
      "<keras.layers.convolutional.conv2d.Conv2D object at 0x000001A31B1BFD90>\n",
      "<keras.layers.convolutional.conv2d.Conv2D object at 0x000001A31B32E2C0>\n",
      "<keras.layers.pooling.max_pooling2d.MaxPooling2D object at 0x000001A31B32F370>\n",
      "<keras.layers.convolutional.conv2d.Conv2D object at 0x000001A31B32FB50>\n",
      "<keras.layers.convolutional.conv2d.Conv2D object at 0x000001A31B32FDF0>\n",
      "<keras.layers.convolutional.conv2d.Conv2D object at 0x000001A31B32D0F0>\n",
      "<keras.layers.pooling.max_pooling2d.MaxPooling2D object at 0x000001A31B381180>\n",
      "<keras.layers.convolutional.conv2d.Conv2D object at 0x000001A31B3820E0>\n",
      "<keras.layers.convolutional.conv2d.Conv2D object at 0x000001A31B3831F0>\n",
      "<keras.layers.convolutional.conv2d.Conv2D object at 0x000001A31B383FD0>\n",
      "<keras.layers.pooling.max_pooling2d.MaxPooling2D object at 0x000001A31B39C610>\n",
      "<keras.layers.convolutional.conv2d.Conv2D object at 0x000001A31B382AA0>\n",
      "<keras.layers.convolutional.conv2d.Conv2D object at 0x000001A31B3829E0>\n",
      "<keras.layers.convolutional.conv2d.Conv2D object at 0x000001A31B39CA30>\n",
      "<keras.layers.pooling.max_pooling2d.MaxPooling2D object at 0x000001A31B39F1F0>\n"
     ]
    }
   ],
   "source": [
    "for layer in VGG16_Architecture.layers:\n",
    "    print(layer)\n",
    "    layer.trainable=False"
   ]
  },
  {
   "cell_type": "code",
   "execution_count": 8,
   "id": "1e290c5f",
   "metadata": {},
   "outputs": [],
   "source": [
    "folders = 'C:/Users/kmman/Documents/Dissertation/driver-detection/driver-detection/train' \n",
    "num_dirs = len([d for d in os.listdir(folders) if os.path.isdir(os.path.join(folders, d))])"
   ]
  },
  {
   "cell_type": "code",
   "execution_count": 9,
   "id": "6cbfaea6",
   "metadata": {},
   "outputs": [],
   "source": [
    "x=Flatten()(VGG16_Architecture.output)"
   ]
  },
  {
   "cell_type": "code",
   "execution_count": 10,
   "id": "6bca8727",
   "metadata": {},
   "outputs": [
    {
     "data": {
      "text/plain": [
       "<KerasTensor: shape=(None, 12800) dtype=float32 (created by layer 'flatten')>"
      ]
     },
     "execution_count": 10,
     "metadata": {},
     "output_type": "execute_result"
    }
   ],
   "source": [
    "x"
   ]
  },
  {
   "cell_type": "code",
   "execution_count": 11,
   "id": "ed7d354d",
   "metadata": {},
   "outputs": [],
   "source": [
    "prediction=Dense(num_dirs,activation='softmax')(x)"
   ]
  },
  {
   "cell_type": "code",
   "execution_count": 12,
   "id": "15dd19aa",
   "metadata": {},
   "outputs": [
    {
     "data": {
      "text/plain": [
       "<KerasTensor: shape=(None, 4) dtype=float32 (created by layer 'dense')>"
      ]
     },
     "execution_count": 12,
     "metadata": {},
     "output_type": "execute_result"
    }
   ],
   "source": [
    "prediction"
   ]
  },
  {
   "cell_type": "code",
   "execution_count": 13,
   "id": "d5d7f247",
   "metadata": {},
   "outputs": [],
   "source": [
    "model=Model(inputs=VGG16_Architecture.input,outputs=prediction)"
   ]
  },
  {
   "cell_type": "code",
   "execution_count": 14,
   "id": "19608e76",
   "metadata": {},
   "outputs": [
    {
     "name": "stdout",
     "output_type": "stream",
     "text": [
      "Model: \"model\"\n",
      "_________________________________________________________________\n",
      " Layer (type)                Output Shape              Param #   \n",
      "=================================================================\n",
      " input_1 (InputLayer)        [(None, 180, 180, 3)]     0         \n",
      "                                                                 \n",
      " block1_conv1 (Conv2D)       (None, 180, 180, 64)      1792      \n",
      "                                                                 \n",
      " block1_conv2 (Conv2D)       (None, 180, 180, 64)      36928     \n",
      "                                                                 \n",
      " block1_pool (MaxPooling2D)  (None, 90, 90, 64)        0         \n",
      "                                                                 \n",
      " block2_conv1 (Conv2D)       (None, 90, 90, 128)       73856     \n",
      "                                                                 \n",
      " block2_conv2 (Conv2D)       (None, 90, 90, 128)       147584    \n",
      "                                                                 \n",
      " block2_pool (MaxPooling2D)  (None, 45, 45, 128)       0         \n",
      "                                                                 \n",
      " block3_conv1 (Conv2D)       (None, 45, 45, 256)       295168    \n",
      "                                                                 \n",
      " block3_conv2 (Conv2D)       (None, 45, 45, 256)       590080    \n",
      "                                                                 \n",
      " block3_conv3 (Conv2D)       (None, 45, 45, 256)       590080    \n",
      "                                                                 \n",
      " block3_pool (MaxPooling2D)  (None, 22, 22, 256)       0         \n",
      "                                                                 \n",
      " block4_conv1 (Conv2D)       (None, 22, 22, 512)       1180160   \n",
      "                                                                 \n",
      " block4_conv2 (Conv2D)       (None, 22, 22, 512)       2359808   \n",
      "                                                                 \n",
      " block4_conv3 (Conv2D)       (None, 22, 22, 512)       2359808   \n",
      "                                                                 \n",
      " block4_pool (MaxPooling2D)  (None, 11, 11, 512)       0         \n",
      "                                                                 \n",
      " block5_conv1 (Conv2D)       (None, 11, 11, 512)       2359808   \n",
      "                                                                 \n",
      " block5_conv2 (Conv2D)       (None, 11, 11, 512)       2359808   \n",
      "                                                                 \n",
      " block5_conv3 (Conv2D)       (None, 11, 11, 512)       2359808   \n",
      "                                                                 \n",
      " block5_pool (MaxPooling2D)  (None, 5, 5, 512)         0         \n",
      "                                                                 \n",
      " flatten (Flatten)           (None, 12800)             0         \n",
      "                                                                 \n",
      " dense (Dense)               (None, 4)                 51204     \n",
      "                                                                 \n",
      "=================================================================\n",
      "Total params: 14,765,892\n",
      "Trainable params: 51,204\n",
      "Non-trainable params: 14,714,688\n",
      "_________________________________________________________________\n"
     ]
    }
   ],
   "source": [
    "model.summary()"
   ]
  },
  {
   "cell_type": "code",
   "execution_count": 15,
   "id": "c4b76f36",
   "metadata": {},
   "outputs": [],
   "source": [
    "model.compile(\n",
    "    loss='categorical_crossentropy',\n",
    "    optimizer='Adam',\n",
    "    metrics=['accuracy']\n",
    ")\n"
   ]
  },
  {
   "cell_type": "code",
   "execution_count": 16,
   "id": "a79ae348",
   "metadata": {},
   "outputs": [],
   "source": [
    "train_data_generator=ImageDataGenerator(rescale=1./255,shear_range=0.2,zoom_range=0.2, preprocessing_function=lambda img: tf.image.resize(img, IMAGE_SIZE))\n",
    "test_data_generator=ImageDataGenerator(rescale=1./255, preprocessing_function=lambda img: tf.image.resize(img, IMAGE_SIZE))\n"
   ]
  },
  {
   "cell_type": "code",
   "execution_count": 17,
   "id": "628f508b",
   "metadata": {},
   "outputs": [
    {
     "data": {
      "text/plain": [
       "<keras.preprocessing.image.ImageDataGenerator at 0x1a3034856c0>"
      ]
     },
     "execution_count": 17,
     "metadata": {},
     "output_type": "execute_result"
    }
   ],
   "source": [
    "train_data_generator"
   ]
  },
  {
   "cell_type": "code",
   "execution_count": 18,
   "id": "9de6963b",
   "metadata": {},
   "outputs": [],
   "source": [
    "test_data_generator=ImageDataGenerator(rescale=1./255)"
   ]
  },
  {
   "cell_type": "code",
   "execution_count": 19,
   "id": "cb4a26f9",
   "metadata": {},
   "outputs": [
    {
     "name": "stdout",
     "output_type": "stream",
     "text": [
      "Found 2900 images belonging to 4 classes.\n"
     ]
    }
   ],
   "source": [
    "training_set=train_data_generator.flow_from_directory(training_path,target_size=IMAGE_SIZE,batch_size=32,class_mode='categorical')\n"
   ]
  },
  {
   "cell_type": "code",
   "execution_count": 20,
   "id": "e5b5479d",
   "metadata": {},
   "outputs": [
    {
     "name": "stdout",
     "output_type": "stream",
     "text": [
      "Found 311 images belonging to 4 classes.\n"
     ]
    }
   ],
   "source": [
    "testing_set=test_data_generator.flow_from_directory(testing_path,target_size=IMAGE_SIZE,batch_size=32,class_mode='categorical')"
   ]
  },
  {
   "cell_type": "code",
   "execution_count": 21,
   "id": "1d1bf746",
   "metadata": {},
   "outputs": [
    {
     "data": {
      "text/plain": [
       "array([0, 0, 0, ..., 3, 3, 3])"
      ]
     },
     "execution_count": 21,
     "metadata": {},
     "output_type": "execute_result"
    }
   ],
   "source": [
    "training_set.labels"
   ]
  },
  {
   "cell_type": "code",
   "execution_count": 22,
   "id": "4756968e",
   "metadata": {},
   "outputs": [
    {
     "data": {
      "text/plain": [
       "91"
      ]
     },
     "execution_count": 22,
     "metadata": {},
     "output_type": "execute_result"
    }
   ],
   "source": [
    "len(training_set)"
   ]
  },
  {
   "cell_type": "code",
   "execution_count": 23,
   "id": "c1103aaf",
   "metadata": {},
   "outputs": [
    {
     "data": {
      "text/plain": [
       "10"
      ]
     },
     "execution_count": 23,
     "metadata": {},
     "output_type": "execute_result"
    }
   ],
   "source": [
    "len(testing_set)"
   ]
  },
  {
   "cell_type": "code",
   "execution_count": 24,
   "id": "17d9eb6e",
   "metadata": {},
   "outputs": [
    {
     "name": "stdout",
     "output_type": "stream",
     "text": [
      "Epoch 1/3\n",
      "91/91 [==============================] - 871s 10s/step - loss: 0.4946 - accuracy: 0.7928 - val_loss: 0.1400 - val_accuracy: 0.9325\n",
      "Epoch 2/3\n",
      "91/91 [==============================] - 894s 10s/step - loss: 0.2003 - accuracy: 0.9228 - val_loss: 0.0665 - val_accuracy: 0.9871\n",
      "Epoch 3/3\n",
      "91/91 [==============================] - 773s 8s/step - loss: 0.1440 - accuracy: 0.9531 - val_loss: 0.1082 - val_accuracy: 0.9518\n"
     ]
    },
    {
     "data": {
      "text/plain": [
       "<keras.callbacks.History at 0x1a31c5fab30>"
      ]
     },
     "execution_count": 24,
     "metadata": {},
     "output_type": "execute_result"
    }
   ],
   "source": [
    "model.fit(\n",
    "    training_set,\n",
    "    validation_data=testing_set,\n",
    "    epochs=3,\n",
    "    steps_per_epoch=len(training_set),\n",
    "    validation_steps=len(testing_set)\n",
    ")"
   ]
  },
  {
   "cell_type": "code",
   "execution_count": 25,
   "id": "d0e1efc5",
   "metadata": {},
   "outputs": [],
   "source": [
    "model.save(\"./Models/Predefine_Architecture_VGG16_Model.h5\")"
   ]
  },
  {
   "cell_type": "code",
   "execution_count": 26,
   "id": "cf132e2c",
   "metadata": {},
   "outputs": [],
   "source": [
    "VGG16_model=load_model(\"./Models/Predefine_Architecture_VGG16_Model.h5\")"
   ]
  },
  {
   "cell_type": "code",
   "execution_count": 27,
   "id": "9c1efb8d",
   "metadata": {},
   "outputs": [
    {
     "name": "stdout",
     "output_type": "stream",
     "text": [
      "10/10 [==============================] - 72s 7s/step\n"
     ]
    }
   ],
   "source": [
    "test_prediction=model.predict(testing_set)"
   ]
  },
  {
   "cell_type": "code",
   "execution_count": null,
   "id": "c3f11cf7",
   "metadata": {},
   "outputs": [],
   "source": []
  },
  {
   "cell_type": "code",
   "execution_count": 28,
   "id": "062126e8",
   "metadata": {},
   "outputs": [
    {
     "data": {
      "text/plain": [
       "array([[6.7802743e-05, 3.1868341e-05, 4.8112324e-01, 5.1877707e-01],\n",
       "       [4.7799849e-09, 2.3212215e-06, 3.9498922e-05, 9.9995828e-01],\n",
       "       [4.6462003e-05, 6.8450696e-05, 5.7905680e-01, 4.2082834e-01],\n",
       "       ...,\n",
       "       [9.9992919e-01, 6.6918255e-05, 2.2329816e-06, 1.6207852e-06],\n",
       "       [9.7402062e-07, 3.8020353e-06, 4.5793716e-04, 9.9953735e-01],\n",
       "       [6.1534192e-06, 9.9996948e-01, 7.6545120e-06, 1.6685844e-05]],\n",
       "      dtype=float32)"
      ]
     },
     "execution_count": 28,
     "metadata": {},
     "output_type": "execute_result"
    }
   ],
   "source": [
    "test_prediction"
   ]
  },
  {
   "cell_type": "code",
   "execution_count": 29,
   "id": "131f4eea",
   "metadata": {},
   "outputs": [],
   "source": [
    "predicted_values=[numpy.argmax(result) for result in test_prediction]"
   ]
  },
  {
   "cell_type": "code",
   "execution_count": 30,
   "id": "32d79003",
   "metadata": {},
   "outputs": [
    {
     "name": "stdout",
     "output_type": "stream",
     "text": [
      "3  - >  0\n",
      "3  - >  0\n",
      "2  - >  0\n",
      "1  - >  0\n",
      "0  - >  0\n",
      "0  - >  0\n",
      "1  - >  0\n",
      "1  - >  0\n",
      "1  - >  0\n",
      "1  - >  0\n",
      "1  - >  0\n",
      "2  - >  0\n",
      "0  - >  0\n",
      "2  - >  0\n",
      "0  - >  0\n",
      "2  - >  0\n",
      "3  - >  0\n",
      "2  - >  0\n",
      "2  - >  0\n",
      "2  - >  0\n",
      "1  - >  0\n",
      "2  - >  0\n",
      "0  - >  0\n",
      "1  - >  0\n",
      "0  - >  0\n",
      "2  - >  0\n",
      "2  - >  0\n",
      "2  - >  0\n",
      "1  - >  0\n",
      "1  - >  0\n",
      "1  - >  0\n",
      "1  - >  0\n",
      "3  - >  0\n",
      "0  - >  0\n",
      "3  - >  0\n",
      "1  - >  0\n",
      "0  - >  0\n",
      "3  - >  0\n",
      "1  - >  0\n",
      "1  - >  0\n",
      "0  - >  0\n",
      "3  - >  0\n",
      "1  - >  0\n",
      "0  - >  0\n",
      "1  - >  0\n",
      "3  - >  0\n",
      "3  - >  0\n",
      "0  - >  0\n",
      "0  - >  0\n",
      "0  - >  0\n",
      "1  - >  0\n",
      "0  - >  0\n",
      "1  - >  0\n",
      "0  - >  0\n",
      "1  - >  0\n",
      "3  - >  0\n",
      "1  - >  0\n",
      "1  - >  0\n",
      "1  - >  0\n",
      "3  - >  0\n",
      "1  - >  0\n",
      "3  - >  0\n",
      "0  - >  0\n",
      "1  - >  0\n",
      "0  - >  0\n",
      "3  - >  0\n",
      "2  - >  0\n",
      "0  - >  0\n",
      "3  - >  1\n",
      "3  - >  1\n",
      "1  - >  1\n",
      "1  - >  1\n",
      "3  - >  1\n",
      "0  - >  1\n",
      "3  - >  1\n",
      "3  - >  1\n",
      "1  - >  1\n",
      "3  - >  1\n",
      "3  - >  1\n",
      "0  - >  1\n",
      "1  - >  1\n",
      "3  - >  1\n",
      "0  - >  1\n",
      "3  - >  1\n",
      "0  - >  1\n",
      "0  - >  1\n",
      "0  - >  1\n",
      "3  - >  1\n",
      "3  - >  1\n",
      "0  - >  1\n",
      "3  - >  1\n",
      "1  - >  1\n",
      "0  - >  1\n",
      "3  - >  1\n",
      "0  - >  1\n",
      "0  - >  1\n",
      "3  - >  1\n",
      "2  - >  1\n",
      "1  - >  1\n",
      "1  - >  1\n",
      "3  - >  1\n",
      "3  - >  1\n",
      "0  - >  1\n",
      "1  - >  1\n",
      "0  - >  1\n",
      "1  - >  1\n",
      "0  - >  1\n",
      "3  - >  1\n",
      "3  - >  1\n",
      "1  - >  1\n",
      "1  - >  1\n",
      "2  - >  1\n",
      "0  - >  1\n",
      "3  - >  1\n",
      "1  - >  1\n",
      "3  - >  1\n",
      "3  - >  1\n",
      "1  - >  1\n",
      "3  - >  1\n",
      "3  - >  1\n",
      "1  - >  1\n",
      "1  - >  1\n",
      "1  - >  1\n",
      "2  - >  1\n",
      "3  - >  1\n",
      "1  - >  1\n",
      "0  - >  1\n",
      "1  - >  1\n",
      "2  - >  1\n",
      "0  - >  1\n",
      "3  - >  1\n",
      "3  - >  1\n",
      "1  - >  1\n",
      "3  - >  1\n",
      "3  - >  1\n",
      "1  - >  1\n",
      "3  - >  1\n",
      "3  - >  1\n",
      "1  - >  1\n",
      "1  - >  1\n",
      "3  - >  1\n",
      "2  - >  1\n",
      "1  - >  1\n",
      "2  - >  1\n",
      "3  - >  1\n",
      "3  - >  1\n",
      "1  - >  1\n",
      "2  - >  1\n",
      "0  - >  1\n",
      "3  - >  1\n",
      "0  - >  1\n",
      "3  - >  1\n",
      "3  - >  1\n",
      "0  - >  1\n",
      "0  - >  1\n",
      "2  - >  1\n",
      "3  - >  1\n",
      "2  - >  1\n",
      "3  - >  1\n",
      "1  - >  1\n",
      "1  - >  1\n",
      "0  - >  1\n",
      "2  - >  1\n",
      "1  - >  1\n",
      "1  - >  1\n",
      "3  - >  1\n",
      "3  - >  1\n",
      "3  - >  1\n",
      "2  - >  2\n",
      "0  - >  2\n",
      "0  - >  2\n",
      "3  - >  2\n",
      "0  - >  2\n",
      "2  - >  2\n",
      "1  - >  2\n",
      "3  - >  2\n",
      "0  - >  2\n",
      "1  - >  2\n",
      "0  - >  2\n",
      "1  - >  2\n",
      "1  - >  2\n",
      "3  - >  2\n",
      "1  - >  2\n",
      "2  - >  2\n",
      "1  - >  2\n",
      "2  - >  2\n",
      "2  - >  2\n",
      "0  - >  2\n",
      "3  - >  2\n",
      "0  - >  2\n",
      "3  - >  2\n",
      "0  - >  2\n",
      "3  - >  2\n",
      "2  - >  2\n",
      "0  - >  2\n",
      "0  - >  2\n",
      "1  - >  2\n",
      "1  - >  2\n",
      "1  - >  2\n",
      "1  - >  2\n",
      "2  - >  2\n",
      "3  - >  2\n",
      "2  - >  2\n",
      "1  - >  2\n",
      "1  - >  2\n",
      "1  - >  2\n",
      "0  - >  2\n",
      "1  - >  2\n",
      "1  - >  2\n",
      "2  - >  2\n",
      "0  - >  2\n",
      "2  - >  2\n",
      "1  - >  2\n",
      "3  - >  2\n",
      "3  - >  2\n",
      "0  - >  2\n",
      "1  - >  2\n",
      "1  - >  2\n",
      "3  - >  2\n",
      "0  - >  2\n",
      "3  - >  2\n",
      "1  - >  2\n",
      "2  - >  2\n",
      "3  - >  2\n",
      "3  - >  2\n",
      "1  - >  2\n",
      "0  - >  2\n",
      "1  - >  2\n",
      "3  - >  3\n",
      "2  - >  3\n",
      "1  - >  3\n",
      "3  - >  3\n",
      "1  - >  3\n",
      "1  - >  3\n",
      "2  - >  3\n",
      "0  - >  3\n",
      "1  - >  3\n",
      "2  - >  3\n",
      "3  - >  3\n",
      "3  - >  3\n",
      "1  - >  3\n",
      "2  - >  3\n",
      "3  - >  3\n",
      "3  - >  3\n",
      "3  - >  3\n",
      "3  - >  3\n",
      "3  - >  3\n",
      "2  - >  3\n",
      "0  - >  3\n",
      "1  - >  3\n",
      "1  - >  3\n",
      "1  - >  3\n",
      "2  - >  3\n",
      "3  - >  3\n",
      "3  - >  3\n",
      "0  - >  3\n",
      "3  - >  3\n",
      "3  - >  3\n",
      "1  - >  3\n",
      "1  - >  3\n",
      "2  - >  3\n",
      "3  - >  3\n",
      "3  - >  3\n",
      "3  - >  3\n",
      "1  - >  3\n",
      "3  - >  3\n",
      "0  - >  3\n",
      "0  - >  3\n",
      "3  - >  3\n",
      "0  - >  3\n",
      "0  - >  3\n",
      "1  - >  3\n",
      "2  - >  3\n",
      "0  - >  3\n",
      "3  - >  3\n",
      "0  - >  3\n",
      "1  - >  3\n",
      "0  - >  3\n",
      "0  - >  3\n",
      "2  - >  3\n",
      "1  - >  3\n",
      "3  - >  3\n",
      "1  - >  3\n",
      "2  - >  3\n",
      "1  - >  3\n",
      "3  - >  3\n",
      "3  - >  3\n",
      "3  - >  3\n",
      "2  - >  3\n",
      "1  - >  3\n",
      "3  - >  3\n",
      "0  - >  3\n",
      "1  - >  3\n",
      "1  - >  3\n",
      "0  - >  3\n",
      "1  - >  3\n",
      "3  - >  3\n",
      "2  - >  3\n",
      "3  - >  3\n",
      "2  - >  3\n",
      "1  - >  3\n",
      "3  - >  3\n",
      "1  - >  3\n",
      "3  - >  3\n",
      "0  - >  3\n",
      "1  - >  3\n",
      "3  - >  3\n",
      "1  - >  3\n",
      "0  - >  3\n",
      "3  - >  3\n",
      "1  - >  3\n"
     ]
    }
   ],
   "source": [
    "for i in range(len(predicted_values)):\n",
    "    print(predicted_values[i],\" - > \",testing_set.labels[i])"
   ]
  },
  {
   "cell_type": "code",
   "execution_count": 31,
   "id": "e87735b2",
   "metadata": {},
   "outputs": [],
   "source": [
    "confusion_matrix_data=confusion_matrix(predicted_values,testing_set.labels)"
   ]
  },
  {
   "cell_type": "code",
   "execution_count": 32,
   "id": "32af25d1",
   "metadata": {},
   "outputs": [
    {
     "data": {
      "text/plain": [
       "array([[18, 21, 15, 15],\n",
       "       [25, 28, 21, 25],\n",
       "       [12, 10, 11, 13],\n",
       "       [13, 41, 13, 30]], dtype=int64)"
      ]
     },
     "execution_count": 32,
     "metadata": {},
     "output_type": "execute_result"
    }
   ],
   "source": [
    "confusion_matrix_data"
   ]
  },
  {
   "cell_type": "code",
   "execution_count": 33,
   "id": "ad4fbf2d",
   "metadata": {},
   "outputs": [
    {
     "data": {
      "text/plain": [
       "<Axes: >"
      ]
     },
     "execution_count": 33,
     "metadata": {},
     "output_type": "execute_result"
    },
    {
     "data": {
      "image/png": "[encoded data removed]",
      "text/plain": [
       "<Figure size 640x480 with 2 Axes>"
      ]
     },
     "metadata": {},
     "output_type": "display_data"
    }
   ],
   "source": [
    "pyplot.figure('Confusion Matrix')\n",
    "seaborn.heatmap(confusion_matrix_data,annot=True,xticklabels=classes_list,yticklabels=classes_list)\n",
    "# seaborn.heatmap(confusion_matrix_data,annot=True)"
   ]
  },
  {
   "cell_type": "code",
   "execution_count": 34,
   "id": "7c1ce006",
   "metadata": {},
   "outputs": [],
   "source": [
    "classification_report_data=classification_report(predicted_values,testing_set.labels,target_names=classes_list)"
   ]
  },
  {
   "cell_type": "code",
   "execution_count": 35,
   "id": "664c7755",
   "metadata": {},
   "outputs": [
    {
     "name": "stdout",
     "output_type": "stream",
     "text": [
      "              precision    recall  f1-score   support\n",
      "\n",
      "      closed       0.26      0.26      0.26        69\n",
      "     no_yawn       0.28      0.28      0.28        99\n",
      "        open       0.18      0.24      0.21        46\n",
      "        yawn       0.36      0.31      0.33        97\n",
      "\n",
      "    accuracy                           0.28       311\n",
      "   macro avg       0.27      0.27      0.27       311\n",
      "weighted avg       0.29      0.28      0.28       311\n",
      "\n"
     ]
    }
   ],
   "source": [
    "print(classification_report_data)"
   ]
  },
  {
   "cell_type": "code",
   "execution_count": null,
   "id": "3b3d2e21",
   "metadata": {},
   "outputs": [],
   "source": []
  }
 ],
 "metadata": {
  "kernelspec": {
   "display_name": "Python 3 (ipykernel)",
   "language": "python",
   "name": "python3"
  },
  "language_info": {
   "codemirror_mode": {
    "name": "ipython",
    "version": 3
   },
   "file_extension": ".py",
   "mimetype": "text/x-python",
   "name": "python",
   "nbconvert_exporter": "python",
   "pygments_lexer": "ipython3",
   "version": "3.10.4"
  }
 },
 "nbformat": 4,
 "nbformat_minor": 5
}
